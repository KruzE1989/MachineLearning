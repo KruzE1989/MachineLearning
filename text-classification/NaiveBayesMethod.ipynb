{
 "cells": [
  {
   "cell_type": "code",
   "execution_count": 1,
   "metadata": {},
   "outputs": [],
   "source": [
    "import pandas as pd\n",
    "from sklearn.model_selection import train_test_split\n",
    "from sklearn.feature_extraction.text import CountVectorizer, TfidfTransformer\n",
    "from sklearn.metrics import accuracy_score, classification_report\n",
    "import matplotlib.pyplot as plt\n",
    "from nltk.corpus import stopwords\n",
    "import re\n",
    "from bs4 import BeautifulSoup\n",
    "from sklearn.naive_bayes import MultinomialNB, ComplementNB, BernoulliNB\n",
    "from sklearn.pipeline import Pipeline"
   ]
  },
  {
   "cell_type": "code",
   "execution_count": 2,
   "metadata": {},
   "outputs": [],
   "source": [
    "raw_numpy = pd.read_csv(\"numpy.csv\")\n",
    "raw_pandas = pd.read_csv(\"pandas.csv\")\n",
    "raw_csharp = pd.read_csv(\"csharp.csv\")\n",
    "raw_matlab = pd.read_csv(\"matlab.csv\")\n",
    "raw_matplotlib = pd.read_csv(\"matplotlib.csv\")\n",
    "raw_mongodb = pd.read_csv(\"mongodb.csv\")\n",
    "raw_tensorflow = pd.read_csv(\"tensorflow.csv\")\n",
    "raw_typescript = pd.read_csv(\"typescript.csv\")"
   ]
  },
  {
   "cell_type": "code",
   "execution_count": 3,
   "metadata": {},
   "outputs": [
    {
     "name": "stdout",
     "output_type": "stream",
     "text": [
      "(45005, 1)\n",
      "(47904, 1)\n",
      "(45664, 1)\n",
      "(45921, 1)\n",
      "(43507, 1)\n",
      "(44070, 1)\n",
      "(41255, 1)\n",
      "(47392, 1)\n"
     ]
    }
   ],
   "source": [
    "print(raw_numpy.shape)\n",
    "print(raw_pandas.shape)\n",
    "print(raw_csharp.shape)\n",
    "print(raw_matlab.shape)\n",
    "print(raw_matplotlib.shape)\n",
    "print(raw_mongodb.shape)\n",
    "print(raw_tensorflow.shape)\n",
    "print(raw_typescript.shape)"
   ]
  },
  {
   "cell_type": "code",
   "execution_count": 4,
   "metadata": {},
   "outputs": [],
   "source": [
    "raw_numpy[\"Tag\"]=\"numpy\"\n",
    "raw_pandas[\"Tag\"]=\"pandas\"\n",
    "raw_csharp[\"Tag\"]=\"csharp\"\n",
    "raw_matlab[\"Tag\"]=\"matlab\"\n",
    "raw_matplotlib[\"Tag\"]=\"matplotlib\"\n",
    "raw_mongodb[\"Tag\"]=\"mongodb\"\n",
    "raw_tensorflow[\"Tag\"]=\"tensorflow\"\n",
    "raw_typescript[\"Tag\"]=\"typescript\""
   ]
  },
  {
   "cell_type": "code",
   "execution_count": 5,
   "metadata": {},
   "outputs": [
    {
     "name": "stdout",
     "output_type": "stream",
     "text": [
      "(45005, 2)\n",
      "(47904, 2)\n",
      "(45664, 2)\n",
      "(45921, 2)\n",
      "(43507, 2)\n",
      "(44070, 2)\n",
      "(41255, 2)\n",
      "(47392, 2)\n"
     ]
    }
   ],
   "source": [
    "print(raw_numpy.shape)\n",
    "print(raw_pandas.shape)\n",
    "print(raw_csharp.shape)\n",
    "print(raw_matlab.shape)\n",
    "print(raw_matplotlib.shape)\n",
    "print(raw_mongodb.shape)\n",
    "print(raw_tensorflow.shape)\n",
    "print(raw_typescript.shape)"
   ]
  },
  {
   "cell_type": "code",
   "execution_count": 6,
   "metadata": {},
   "outputs": [
    {
     "data": {
      "text/plain": [
       "(360718, 2)"
      ]
     },
     "execution_count": 6,
     "metadata": {},
     "output_type": "execute_result"
    }
   ],
   "source": [
    "df = pd.concat([raw_numpy, raw_pandas, raw_csharp, raw_matlab, raw_matplotlib, raw_mongodb, raw_tensorflow, raw_typescript], axis=0)\n",
    "df = df.reset_index(drop=True)\n",
    "#df = df[pd.notnull(df['Tag'])]\n",
    "df.shape"
   ]
  },
  {
   "cell_type": "code",
   "execution_count": 7,
   "metadata": {},
   "outputs": [
    {
     "name": "stdout",
     "output_type": "stream",
     "text": [
      "3636886\n"
     ]
    }
   ],
   "source": [
    "print(df['Questions'].apply(lambda x: len(x.split(' '))).sum())"
   ]
  },
  {
   "cell_type": "code",
   "execution_count": 8,
   "metadata": {},
   "outputs": [
    {
     "data": {
      "text/plain": [
       "<AxesSubplot: >"
      ]
     },
     "execution_count": 8,
     "metadata": {},
     "output_type": "execute_result"
    },
    {
     "data": {
      "image/png": "[encoded data removed]",
      "text/plain": [
       "<Figure size 1000x400 with 1 Axes>"
      ]
     },
     "metadata": {},
     "output_type": "display_data"
    }
   ],
   "source": [
    "my_tags=[\"numpy\",\"pandas\",\"csharp\",\"matlab\",\"matplotlib\",\"mongodb\",\"tensorflow\",\"typescript\"]\n",
    "\n",
    "plt.figure(figsize=(10,4))\n",
    "df.Tag.value_counts().plot(kind='bar')"
   ]
  },
  {
   "cell_type": "code",
   "execution_count": 9,
   "metadata": {},
   "outputs": [
    {
     "name": "stdout",
     "output_type": "stream",
     "text": [
      "Sum rows of 2D array with elements of 1D array\n",
      "Tag: numpy\n",
      "Running automatic annotation in cvat with tensorflow results in status code 400 \"No labels found for tf annotation\"\n",
      "Tag: tensorflow\n"
     ]
    }
   ],
   "source": [
    "def print_plot(index):\n",
    "    example = df[df.index == index][['Questions', 'Tag']].values[0]\n",
    "    if len(example) > 0:\n",
    "        print(example[0])\n",
    "        print('Tag:', example[1])\n",
    "print_plot(10)\n",
    "print_plot(300000)"
   ]
  },
  {
   "cell_type": "code",
   "execution_count": 10,
   "metadata": {},
   "outputs": [
    {
     "name": "stderr",
     "output_type": "stream",
     "text": [
      "c:\\Users\\einst\\.conda\\envs\\tf\\lib\\site-packages\\bs4\\__init__.py:435: MarkupResemblesLocatorWarning: The input looks more like a filename than markup. You may want to open this file and pass the filehandle into Beautiful Soup.\n",
      "  warnings.warn(\n"
     ]
    },
    {
     "name": "stdout",
     "output_type": "stream",
     "text": [
      "sum rows 2d array elements 1d array\n",
      "Tag: numpy\n",
      "running automatic annotation cvat tensorflow results status code 400 labels found tf annotation\n",
      "Tag: tensorflow\n"
     ]
    }
   ],
   "source": [
    "REPLACE_BY_SPACE_RE = re.compile('[/(){}\\[\\]\\|@,;]')\n",
    "BAD_SYMBOLS_RE = re.compile('[^0-9a-z #+_]')\n",
    "STOPWORDS = set(stopwords.words('english'))\n",
    "\n",
    "def clean_text(text):\n",
    "    \"\"\"\n",
    "        text: a string\n",
    "        \n",
    "        return: modified initial string\n",
    "    \"\"\"\n",
    "    text = BeautifulSoup(text, \"lxml\").text # HTML decoding\n",
    "    text = text.lower() # lowercase text\n",
    "    text = REPLACE_BY_SPACE_RE.sub(' ', text) # replace REPLACE_BY_SPACE_RE symbols by space in text\n",
    "    text = BAD_SYMBOLS_RE.sub('', text) # delete symbols which are in BAD_SYMBOLS_RE from text\n",
    "    text = ' '.join(word for word in text.split() if word not in STOPWORDS) # delete stopwors from text\n",
    "    return text\n",
    "    \n",
    "df['Questions'] = df['Questions'].apply(clean_text)\n",
    "print_plot(10)\n",
    "print_plot(300000)"
   ]
  },
  {
   "cell_type": "code",
   "execution_count": 11,
   "metadata": {},
   "outputs": [
    {
     "data": {
      "text/plain": [
       "2379141"
      ]
     },
     "execution_count": 11,
     "metadata": {},
     "output_type": "execute_result"
    }
   ],
   "source": [
    "df['Questions'].apply(lambda x: len(x.split(' '))).sum()"
   ]
  },
  {
   "cell_type": "code",
   "execution_count": 12,
   "metadata": {},
   "outputs": [],
   "source": [
    "X = df.Questions\n",
    "y = df.Tag\n",
    "X_train, X_test, y_train, y_test = train_test_split(X, y, test_size=0.3, random_state = 42)"
   ]
  },
  {
   "cell_type": "code",
   "execution_count": 13,
   "metadata": {},
   "outputs": [
    {
     "name": "stdout",
     "output_type": "stream",
     "text": [
      "accuracy 0.7914818511125896\n",
      "              precision    recall  f1-score   support\n",
      "\n",
      "       numpy       0.84      0.75      0.79     13615\n",
      "      pandas       0.80      0.76      0.78     13827\n",
      "      csharp       0.79      0.82      0.80     13100\n",
      "      matlab       0.88      0.89      0.88     13252\n",
      "  matplotlib       0.68      0.58      0.62     13598\n",
      "     mongodb       0.69      0.82      0.75     14267\n",
      "  tensorflow       0.84      0.88      0.86     12334\n",
      "  typescript       0.83      0.86      0.84     14223\n",
      "\n",
      "    accuracy                           0.79    108216\n",
      "   macro avg       0.79      0.79      0.79    108216\n",
      "weighted avg       0.79      0.79      0.79    108216\n",
      "\n"
     ]
    }
   ],
   "source": [
    "multi_nb = Pipeline([('vect', CountVectorizer()),\n",
    "               ('tfidf', TfidfTransformer()),\n",
    "               ('clf', MultinomialNB()),\n",
    "              ])\n",
    "multi_nb.fit(X_train, y_train)\n",
    "\n",
    "y_pred = multi_nb.predict(X_test)\n",
    "\n",
    "print('accuracy %s' % accuracy_score(y_pred, y_test))\n",
    "print(classification_report(y_test, y_pred,target_names=my_tags))"
   ]
  },
  {
   "cell_type": "code",
   "execution_count": 14,
   "metadata": {},
   "outputs": [
    {
     "name": "stdout",
     "output_type": "stream",
     "text": [
      "accuracy 0.8088822355289421\n",
      "              precision    recall  f1-score   support\n",
      "\n",
      "       numpy       0.83      0.77      0.80     13615\n",
      "      pandas       0.83      0.80      0.81     13827\n",
      "      csharp       0.80      0.84      0.82     13100\n",
      "      matlab       0.90      0.89      0.90     13252\n",
      "  matplotlib       0.70      0.60      0.65     13598\n",
      "     mongodb       0.73      0.82      0.77     14267\n",
      "  tensorflow       0.85      0.89      0.87     12334\n",
      "  typescript       0.84      0.86      0.85     14223\n",
      "\n",
      "    accuracy                           0.81    108216\n",
      "   macro avg       0.81      0.81      0.81    108216\n",
      "weighted avg       0.81      0.81      0.81    108216\n",
      "\n"
     ]
    }
   ],
   "source": [
    "berno_nb = Pipeline([('vect', CountVectorizer()),\n",
    "               ('tfidf', TfidfTransformer()),\n",
    "               ('clf', BernoulliNB()),\n",
    "              ])\n",
    "berno_nb.fit(X_train, y_train)\n",
    "\n",
    "y_pred = berno_nb.predict(X_test)\n",
    "\n",
    "print('accuracy %s' % accuracy_score(y_pred, y_test))\n",
    "print(classification_report(y_test, y_pred,target_names=my_tags))"
   ]
  },
  {
   "cell_type": "code",
   "execution_count": 15,
   "metadata": {},
   "outputs": [
    {
     "name": "stdout",
     "output_type": "stream",
     "text": [
      "accuracy 0.8069231906557256\n",
      "              precision    recall  f1-score   support\n",
      "\n",
      "       numpy       0.86      0.75      0.80     13615\n",
      "      pandas       0.84      0.79      0.81     13827\n",
      "      csharp       0.77      0.87      0.82     13100\n",
      "      matlab       0.87      0.91      0.89     13252\n",
      "  matplotlib       0.77      0.54      0.63     13598\n",
      "     mongodb       0.72      0.82      0.76     14267\n",
      "  tensorflow       0.82      0.93      0.87     12334\n",
      "  typescript       0.83      0.87      0.85     14223\n",
      "\n",
      "    accuracy                           0.81    108216\n",
      "   macro avg       0.81      0.81      0.80    108216\n",
      "weighted avg       0.81      0.81      0.80    108216\n",
      "\n"
     ]
    }
   ],
   "source": [
    "comp_nb = Pipeline([('vect', CountVectorizer()),\n",
    "               ('tfidf', TfidfTransformer()),\n",
    "               ('clf', ComplementNB()),\n",
    "              ])\n",
    "comp_nb.fit(X_train, y_train)\n",
    "\n",
    "y_pred = comp_nb.predict(X_test)\n",
    "\n",
    "print('accuracy %s' % accuracy_score(y_pred, y_test))\n",
    "print(classification_report(y_test, y_pred,target_names=my_tags))"
   ]
  }
 ],
 "metadata": {
  "kernelspec": {
   "display_name": "tf",
   "language": "python",
   "name": "tf"
  },
  "language_info": {
   "codemirror_mode": {
    "name": "ipython",
    "version": 3
   },
   "file_extension": ".py",
   "mimetype": "text/x-python",
   "name": "python",
   "nbconvert_exporter": "python",
   "pygments_lexer": "ipython3",
   "version": "3.8.0"
  },
  "orig_nbformat": 4
 },
 "nbformat": 4,
 "nbformat_minor": 2
}
