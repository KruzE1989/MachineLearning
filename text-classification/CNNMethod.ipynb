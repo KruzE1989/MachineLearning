{
 "cells": [
  {
   "cell_type": "code",
   "execution_count": 7,
   "metadata": {},
   "outputs": [],
   "source": [
    "import numpy as np\n",
    "import pandas as pd\n",
    "from keras.models import Sequential\n",
    "from keras.layers import Embedding, Conv1D, GlobalMaxPooling1D, Dense\n",
    "from keras.preprocessing.text import Tokenizer, text_to_word_sequence, one_hot, hashing_trick\n",
    "from keras.utils import pad_sequences\n",
    "from sklearn.model_selection import train_test_split\n",
    "from keras.utils import to_categorical\n",
    "from nltk.tokenize import word_tokenize\n",
    "from nltk.stem import PorterStemmer\n",
    "from nltk.corpus import stopwords\n"
   ]
  },
  {
   "cell_type": "code",
   "execution_count": 8,
   "metadata": {},
   "outputs": [],
   "source": [
    "raw_numpy = pd.read_csv(\"numpy.csv\")\n",
    "raw_pandas = pd.read_csv(\"pandas.csv\")\n",
    "raw_csharp = pd.read_csv(\"csharp.csv\")\n",
    "raw_matlab = pd.read_csv(\"matlab.csv\")\n",
    "raw_matplotlib = pd.read_csv(\"matplotlib.csv\")\n",
    "raw_mongodb = pd.read_csv(\"mongodb.csv\")\n",
    "raw_tensorflow = pd.read_csv(\"tensorflow.csv\")\n",
    "raw_typescript = pd.read_csv(\"typescript.csv\")"
   ]
  },
  {
   "cell_type": "code",
   "execution_count": 9,
   "metadata": {},
   "outputs": [
    {
     "name": "stdout",
     "output_type": "stream",
     "text": [
      "(45005, 1)\n",
      "(47904, 1)\n",
      "(45664, 1)\n",
      "(45921, 1)\n",
      "(43507, 1)\n",
      "(44070, 1)\n",
      "(41255, 1)\n",
      "(47392, 1)\n"
     ]
    }
   ],
   "source": [
    "print(raw_numpy.shape)\n",
    "print(raw_pandas.shape)\n",
    "print(raw_csharp.shape)\n",
    "print(raw_matlab.shape)\n",
    "print(raw_matplotlib.shape)\n",
    "print(raw_mongodb.shape)\n",
    "print(raw_tensorflow.shape)\n",
    "print(raw_typescript.shape)"
   ]
  },
  {
   "cell_type": "code",
   "execution_count": 10,
   "metadata": {},
   "outputs": [],
   "source": [
    "raw_numpy[\"Tag\"]=\"numpy\"\n",
    "raw_pandas[\"Tag\"]=\"pandas\"\n",
    "raw_csharp[\"Tag\"]=\"csharp\"\n",
    "raw_matlab[\"Tag\"]=\"matlab\"\n",
    "raw_matplotlib[\"Tag\"]=\"matplotlib\"\n",
    "raw_mongodb[\"Tag\"]=\"mongodb\"\n",
    "raw_tensorflow[\"Tag\"]=\"tensorflow\"\n",
    "raw_typescript[\"Tag\"]=\"typescript\""
   ]
  },
  {
   "cell_type": "code",
   "execution_count": 11,
   "metadata": {},
   "outputs": [
    {
     "name": "stdout",
     "output_type": "stream",
     "text": [
      "(45005, 2)\n",
      "(47904, 2)\n",
      "(45664, 2)\n",
      "(45921, 2)\n",
      "(43507, 2)\n",
      "(44070, 2)\n",
      "(41255, 2)\n",
      "(47392, 2)\n"
     ]
    }
   ],
   "source": [
    "print(raw_numpy.shape)\n",
    "print(raw_pandas.shape)\n",
    "print(raw_csharp.shape)\n",
    "print(raw_matlab.shape)\n",
    "print(raw_matplotlib.shape)\n",
    "print(raw_mongodb.shape)\n",
    "print(raw_tensorflow.shape)\n",
    "print(raw_typescript.shape)"
   ]
  },
  {
   "cell_type": "code",
   "execution_count": 12,
   "metadata": {},
   "outputs": [
    {
     "name": "stdout",
     "output_type": "stream",
     "text": [
      "(360718, 2)\n"
     ]
    },
    {
     "data": {
      "text/html": [
       "<div>\n",
       "<style scoped>\n",
       "    .dataframe tbody tr th:only-of-type {\n",
       "        vertical-align: middle;\n",
       "    }\n",
       "\n",
       "    .dataframe tbody tr th {\n",
       "        vertical-align: top;\n",
       "    }\n",
       "\n",
       "    .dataframe thead th {\n",
       "        text-align: right;\n",
       "    }\n",
       "</style>\n",
       "<table border=\"1\" class=\"dataframe\">\n",
       "  <thead>\n",
       "    <tr style=\"text-align: right;\">\n",
       "      <th></th>\n",
       "      <th>Questions</th>\n",
       "      <th>Tag</th>\n",
       "    </tr>\n",
       "  </thead>\n",
       "  <tbody>\n",
       "    <tr>\n",
       "      <th>0</th>\n",
       "      <td>numpy savez() of a list of 3D arrays with diff...</td>\n",
       "      <td>numpy</td>\n",
       "    </tr>\n",
       "    <tr>\n",
       "      <th>1</th>\n",
       "      <td>'DataFrame' object has no attribute 'Close' in...</td>\n",
       "      <td>numpy</td>\n",
       "    </tr>\n",
       "    <tr>\n",
       "      <th>2</th>\n",
       "      <td>How to Look up multiple values for one column ...</td>\n",
       "      <td>numpy</td>\n",
       "    </tr>\n",
       "    <tr>\n",
       "      <th>3</th>\n",
       "      <td>What are fastest data types to use as an alter...</td>\n",
       "      <td>numpy</td>\n",
       "    </tr>\n",
       "    <tr>\n",
       "      <th>4</th>\n",
       "      <td>rgb2hed not giving the same answer when applie...</td>\n",
       "      <td>numpy</td>\n",
       "    </tr>\n",
       "  </tbody>\n",
       "</table>\n",
       "</div>"
      ],
      "text/plain": [
       "                                           Questions    Tag\n",
       "0  numpy savez() of a list of 3D arrays with diff...  numpy\n",
       "1  'DataFrame' object has no attribute 'Close' in...  numpy\n",
       "2  How to Look up multiple values for one column ...  numpy\n",
       "3  What are fastest data types to use as an alter...  numpy\n",
       "4  rgb2hed not giving the same answer when applie...  numpy"
      ]
     },
     "execution_count": 12,
     "metadata": {},
     "output_type": "execute_result"
    }
   ],
   "source": [
    "df = pd.concat([raw_numpy, raw_pandas, raw_csharp, raw_matlab, raw_matplotlib, raw_mongodb, raw_tensorflow, raw_typescript], axis=0)\n",
    "df = df.reset_index(drop=True)\n",
    "#df = df[pd.notnull(df['Tag'])]\n",
    "print(df.shape)\n",
    "df.head()"
   ]
  },
  {
   "cell_type": "code",
   "execution_count": 13,
   "metadata": {},
   "outputs": [
    {
     "name": "stdout",
     "output_type": "stream",
     "text": [
      "3636886\n"
     ]
    }
   ],
   "source": [
    "print(df['Questions'].apply(lambda x: len(x.split(' '))).sum())"
   ]
  },
  {
   "cell_type": "code",
   "execution_count": 14,
   "metadata": {},
   "outputs": [
    {
     "name": "stdout",
     "output_type": "stream",
     "text": [
      "Sum rows of 2D array with elements of 1D array\n",
      "Tag: numpy\n",
      "Running automatic annotation in cvat with tensorflow results in status code 400 \"No labels found for tf annotation\"\n",
      "Tag: tensorflow\n"
     ]
    }
   ],
   "source": [
    "def print_plot(index):\n",
    "    example = df[df.index == index][['Questions', 'Tag']].values[0]\n",
    "    if len(example) > 0:\n",
    "        print(example[0])\n",
    "        print('Tag:', example[1])\n",
    "print_plot(10)\n",
    "print_plot(300000)"
   ]
  },
  {
   "cell_type": "code",
   "execution_count": 15,
   "metadata": {},
   "outputs": [
    {
     "data": {
      "text/plain": [
       "0         [numpy, savez, (, ), of, a, list, of, 3D, arra...\n",
       "1         ['DataFrame, ', object, has, no, attribute, 'C...\n",
       "2         [How, to, Look, up, multiple, values, for, one...\n",
       "3         [What, are, fastest, data, types, to, use, as,...\n",
       "4         [rgb2hed, not, giving, the, same, answer, when...\n",
       "                                ...                        \n",
       "360713    [How, to, access, angular, Component, from, ot...\n",
       "360714    [Testing-library, custom, query, Typescript, e...\n",
       "360715    [React, Native, navigation, (, 4.x, ), props, ...\n",
       "360716    [TypeORM, duplicate, Key, value, for, ManyToMa...\n",
       "360717    [Problem, :, sending, object, in, post, reques...\n",
       "Name: Questions, Length: 360718, dtype: object"
      ]
     },
     "execution_count": 15,
     "metadata": {},
     "output_type": "execute_result"
    }
   ],
   "source": [
    "tokens = df[\"Questions\"].apply(lambda x: word_tokenize(x))\n",
    "tokens"
   ]
  },
  {
   "cell_type": "code",
   "execution_count": 16,
   "metadata": {},
   "outputs": [
    {
     "data": {
      "text/plain": [
       "0         [numpy, savez, of, a, list, of, arrays, with, ...\n",
       "1         [object, has, no, attribute, in, pandas, How, ...\n",
       "2         [How, to, Look, up, multiple, values, for, one...\n",
       "3         [What, are, fastest, data, types, to, use, as,...\n",
       "4         [not, giving, the, same, answer, when, applied...\n",
       "                                ...                        \n",
       "360713    [How, to, access, angular, Component, from, ot...\n",
       "360714                   [custom, query, Typescript, error]\n",
       "360715    [React, Native, navigation, props, become, nul...\n",
       "360716    [TypeORM, duplicate, Key, value, for, ManyToMa...\n",
       "360717    [Problem, sending, object, in, post, request, ...\n",
       "Name: Questions, Length: 360718, dtype: object"
      ]
     },
     "execution_count": 16,
     "metadata": {},
     "output_type": "execute_result"
    }
   ],
   "source": [
    "words = tokens.apply(lambda x: [w for w in x if w.isalpha()])\n",
    "words"
   ]
  },
  {
   "cell_type": "code",
   "execution_count": 17,
   "metadata": {},
   "outputs": [
    {
     "data": {
      "text/plain": [
       "{'a',\n",
       " 'about',\n",
       " 'above',\n",
       " 'after',\n",
       " 'again',\n",
       " 'against',\n",
       " 'ain',\n",
       " 'all',\n",
       " 'am',\n",
       " 'an',\n",
       " 'and',\n",
       " 'any',\n",
       " 'are',\n",
       " 'aren',\n",
       " \"aren't\",\n",
       " 'as',\n",
       " 'at',\n",
       " 'be',\n",
       " 'because',\n",
       " 'been',\n",
       " 'before',\n",
       " 'being',\n",
       " 'below',\n",
       " 'between',\n",
       " 'both',\n",
       " 'but',\n",
       " 'by',\n",
       " 'can',\n",
       " 'couldn',\n",
       " \"couldn't\",\n",
       " 'd',\n",
       " 'did',\n",
       " 'didn',\n",
       " \"didn't\",\n",
       " 'do',\n",
       " 'does',\n",
       " 'doesn',\n",
       " \"doesn't\",\n",
       " 'doing',\n",
       " 'don',\n",
       " \"don't\",\n",
       " 'down',\n",
       " 'during',\n",
       " 'each',\n",
       " 'few',\n",
       " 'for',\n",
       " 'from',\n",
       " 'further',\n",
       " 'had',\n",
       " 'hadn',\n",
       " \"hadn't\",\n",
       " 'has',\n",
       " 'hasn',\n",
       " \"hasn't\",\n",
       " 'have',\n",
       " 'haven',\n",
       " \"haven't\",\n",
       " 'having',\n",
       " 'he',\n",
       " 'her',\n",
       " 'here',\n",
       " 'hers',\n",
       " 'herself',\n",
       " 'him',\n",
       " 'himself',\n",
       " 'his',\n",
       " 'how',\n",
       " 'i',\n",
       " 'if',\n",
       " 'in',\n",
       " 'into',\n",
       " 'is',\n",
       " 'isn',\n",
       " \"isn't\",\n",
       " 'it',\n",
       " \"it's\",\n",
       " 'its',\n",
       " 'itself',\n",
       " 'just',\n",
       " 'll',\n",
       " 'm',\n",
       " 'ma',\n",
       " 'me',\n",
       " 'mightn',\n",
       " \"mightn't\",\n",
       " 'more',\n",
       " 'most',\n",
       " 'mustn',\n",
       " \"mustn't\",\n",
       " 'my',\n",
       " 'myself',\n",
       " 'needn',\n",
       " \"needn't\",\n",
       " 'no',\n",
       " 'nor',\n",
       " 'not',\n",
       " 'now',\n",
       " 'o',\n",
       " 'of',\n",
       " 'off',\n",
       " 'on',\n",
       " 'once',\n",
       " 'only',\n",
       " 'or',\n",
       " 'other',\n",
       " 'our',\n",
       " 'ours',\n",
       " 'ourselves',\n",
       " 'out',\n",
       " 'over',\n",
       " 'own',\n",
       " 're',\n",
       " 's',\n",
       " 'same',\n",
       " 'shan',\n",
       " \"shan't\",\n",
       " 'she',\n",
       " \"she's\",\n",
       " 'should',\n",
       " \"should've\",\n",
       " 'shouldn',\n",
       " \"shouldn't\",\n",
       " 'so',\n",
       " 'some',\n",
       " 'such',\n",
       " 't',\n",
       " 'than',\n",
       " 'that',\n",
       " \"that'll\",\n",
       " 'the',\n",
       " 'their',\n",
       " 'theirs',\n",
       " 'them',\n",
       " 'themselves',\n",
       " 'then',\n",
       " 'there',\n",
       " 'these',\n",
       " 'they',\n",
       " 'this',\n",
       " 'those',\n",
       " 'through',\n",
       " 'to',\n",
       " 'too',\n",
       " 'under',\n",
       " 'until',\n",
       " 'up',\n",
       " 've',\n",
       " 'very',\n",
       " 'was',\n",
       " 'wasn',\n",
       " \"wasn't\",\n",
       " 'we',\n",
       " 'were',\n",
       " 'weren',\n",
       " \"weren't\",\n",
       " 'what',\n",
       " 'when',\n",
       " 'where',\n",
       " 'which',\n",
       " 'while',\n",
       " 'who',\n",
       " 'whom',\n",
       " 'why',\n",
       " 'will',\n",
       " 'with',\n",
       " 'won',\n",
       " \"won't\",\n",
       " 'wouldn',\n",
       " \"wouldn't\",\n",
       " 'y',\n",
       " 'you',\n",
       " \"you'd\",\n",
       " \"you'll\",\n",
       " \"you're\",\n",
       " \"you've\",\n",
       " 'your',\n",
       " 'yours',\n",
       " 'yourself',\n",
       " 'yourselves'}"
      ]
     },
     "execution_count": 17,
     "metadata": {},
     "output_type": "execute_result"
    }
   ],
   "source": [
    "stop_words = set(stopwords.words('english'))\n",
    "stop_words"
   ]
  },
  {
   "cell_type": "code",
   "execution_count": 18,
   "metadata": {},
   "outputs": [
    {
     "data": {
      "text/plain": [
       "0         [numpy, savez, list, arrays, different, shapes...\n",
       "1            [object, attribute, pandas, How, fix, problem]\n",
       "2         [How, Look, multiple, values, one, column, pyt...\n",
       "3         [What, fastest, data, types, use, alternative,...\n",
       "4             [giving, answer, applied, full, part, matrix]\n",
       "                                ...                        \n",
       "360713    [How, access, angular, Component, Component, d...\n",
       "360714                   [custom, query, Typescript, error]\n",
       "360715    [React, Native, navigation, props, become, nul...\n",
       "360716    [TypeORM, duplicate, Key, value, ManyToMany, r...\n",
       "360717    [Problem, sending, object, post, request, angu...\n",
       "Name: Questions, Length: 360718, dtype: object"
      ]
     },
     "execution_count": 18,
     "metadata": {},
     "output_type": "execute_result"
    }
   ],
   "source": [
    "filtered_words = words.apply(lambda x: [word for word in x if word not in stop_words])\n",
    "filtered_words"
   ]
  },
  {
   "cell_type": "code",
   "execution_count": 19,
   "metadata": {},
   "outputs": [
    {
     "data": {
      "text/plain": [
       "0         [numpi, savez, list, array, differ, shape, fai...\n",
       "1              [object, attribut, panda, how, fix, problem]\n",
       "2         [how, look, multipl, valu, one, column, python...\n",
       "3         [what, fastest, data, type, use, altern, vecto...\n",
       "4                 [give, answer, appli, full, part, matrix]\n",
       "                                ...                        \n",
       "360713       [how, access, angular, compon, compon, duplic]\n",
       "360714                   [custom, queri, typescript, error]\n",
       "360715     [react, nativ, navig, prop, becom, null, screen]\n",
       "360716      [typeorm, duplic, key, valu, manytomani, relat]\n",
       "360717    [problem, send, object, post, request, angular...\n",
       "Name: Questions, Length: 360718, dtype: object"
      ]
     },
     "execution_count": 19,
     "metadata": {},
     "output_type": "execute_result"
    }
   ],
   "source": [
    "stemmer = PorterStemmer()\n",
    "stemmed_words = filtered_words.apply(lambda x: [stemmer.stem(word) for word in x])\n",
    "stemmed_words"
   ]
  },
  {
   "cell_type": "code",
   "execution_count": 23,
   "metadata": {},
   "outputs": [
    {
     "data": {
      "text/plain": [
       "0         numpi savez list array differ shape fail simpl...\n",
       "1                     object attribut panda how fix problem\n",
       "2            how look multipl valu one column python duplic\n",
       "3           what fastest data type use altern vector python\n",
       "4                        give answer appli full part matrix\n",
       "                                ...                        \n",
       "360713              how access angular compon compon duplic\n",
       "360714                        custom queri typescript error\n",
       "360715             react nativ navig prop becom null screen\n",
       "360716             typeorm duplic key valu manytomani relat\n",
       "360717    problem send object post request angular sprin...\n",
       "Name: Questions, Length: 360718, dtype: object"
      ]
     },
     "execution_count": 23,
     "metadata": {},
     "output_type": "execute_result"
    }
   ],
   "source": [
    "clean_sentence = stemmed_words.apply(lambda x: \" \".join(x))\n",
    "clean_sentence"
   ]
  },
  {
   "cell_type": "code",
   "execution_count": 21,
   "metadata": {},
   "outputs": [
    {
     "data": {
      "text/html": [
       "<div>\n",
       "<style scoped>\n",
       "    .dataframe tbody tr th:only-of-type {\n",
       "        vertical-align: middle;\n",
       "    }\n",
       "\n",
       "    .dataframe tbody tr th {\n",
       "        vertical-align: top;\n",
       "    }\n",
       "\n",
       "    .dataframe thead th {\n",
       "        text-align: right;\n",
       "    }\n",
       "</style>\n",
       "<table border=\"1\" class=\"dataframe\">\n",
       "  <thead>\n",
       "    <tr style=\"text-align: right;\">\n",
       "      <th></th>\n",
       "      <th>Questions</th>\n",
       "      <th>Tag</th>\n",
       "    </tr>\n",
       "  </thead>\n",
       "  <tbody>\n",
       "    <tr>\n",
       "      <th>0</th>\n",
       "      <td>numpy savez() of a list of 3D arrays with diff...</td>\n",
       "      <td>numpy</td>\n",
       "    </tr>\n",
       "    <tr>\n",
       "      <th>1</th>\n",
       "      <td>'DataFrame' object has no attribute 'Close' in...</td>\n",
       "      <td>numpy</td>\n",
       "    </tr>\n",
       "    <tr>\n",
       "      <th>2</th>\n",
       "      <td>How to Look up multiple values for one column ...</td>\n",
       "      <td>numpy</td>\n",
       "    </tr>\n",
       "    <tr>\n",
       "      <th>3</th>\n",
       "      <td>What are fastest data types to use as an alter...</td>\n",
       "      <td>numpy</td>\n",
       "    </tr>\n",
       "    <tr>\n",
       "      <th>4</th>\n",
       "      <td>rgb2hed not giving the same answer when applie...</td>\n",
       "      <td>numpy</td>\n",
       "    </tr>\n",
       "  </tbody>\n",
       "</table>\n",
       "</div>"
      ],
      "text/plain": [
       "                                           Questions    Tag\n",
       "0  numpy savez() of a list of 3D arrays with diff...  numpy\n",
       "1  'DataFrame' object has no attribute 'Close' in...  numpy\n",
       "2  How to Look up multiple values for one column ...  numpy\n",
       "3  What are fastest data types to use as an alter...  numpy\n",
       "4  rgb2hed not giving the same answer when applie...  numpy"
      ]
     },
     "execution_count": 21,
     "metadata": {},
     "output_type": "execute_result"
    }
   ],
   "source": [
    "df.head()"
   ]
  },
  {
   "cell_type": "code",
   "execution_count": 24,
   "metadata": {},
   "outputs": [
    {
     "data": {
      "text/html": [
       "<div>\n",
       "<style scoped>\n",
       "    .dataframe tbody tr th:only-of-type {\n",
       "        vertical-align: middle;\n",
       "    }\n",
       "\n",
       "    .dataframe tbody tr th {\n",
       "        vertical-align: top;\n",
       "    }\n",
       "\n",
       "    .dataframe thead th {\n",
       "        text-align: right;\n",
       "    }\n",
       "</style>\n",
       "<table border=\"1\" class=\"dataframe\">\n",
       "  <thead>\n",
       "    <tr style=\"text-align: right;\">\n",
       "      <th></th>\n",
       "      <th>Questions</th>\n",
       "      <th>Tag</th>\n",
       "    </tr>\n",
       "  </thead>\n",
       "  <tbody>\n",
       "    <tr>\n",
       "      <th>0</th>\n",
       "      <td>numpi savez list array differ shape fail simpl...</td>\n",
       "      <td>numpy</td>\n",
       "    </tr>\n",
       "    <tr>\n",
       "      <th>1</th>\n",
       "      <td>object attribut panda how fix problem</td>\n",
       "      <td>numpy</td>\n",
       "    </tr>\n",
       "    <tr>\n",
       "      <th>2</th>\n",
       "      <td>how look multipl valu one column python duplic</td>\n",
       "      <td>numpy</td>\n",
       "    </tr>\n",
       "    <tr>\n",
       "      <th>3</th>\n",
       "      <td>what fastest data type use altern vector python</td>\n",
       "      <td>numpy</td>\n",
       "    </tr>\n",
       "    <tr>\n",
       "      <th>4</th>\n",
       "      <td>give answer appli full part matrix</td>\n",
       "      <td>numpy</td>\n",
       "    </tr>\n",
       "  </tbody>\n",
       "</table>\n",
       "</div>"
      ],
      "text/plain": [
       "                                           Questions    Tag\n",
       "0  numpi savez list array differ shape fail simpl...  numpy\n",
       "1              object attribut panda how fix problem  numpy\n",
       "2     how look multipl valu one column python duplic  numpy\n",
       "3    what fastest data type use altern vector python  numpy\n",
       "4                 give answer appli full part matrix  numpy"
      ]
     },
     "execution_count": 24,
     "metadata": {},
     "output_type": "execute_result"
    }
   ],
   "source": [
    "df[\"Questions\"] = clean_sentence\n",
    "df.head()"
   ]
  },
  {
   "cell_type": "code",
   "execution_count": 26,
   "metadata": {},
   "outputs": [
    {
     "name": "stdout",
     "output_type": "stream",
     "text": [
      "Found 34641 unique tokens.\n"
     ]
    }
   ],
   "source": [
    "# Tokenize the text data and convert it to sequences\n",
    "max_words = 30000  # Maximum number of words to consider\n",
    "max_len = 100  # Maximum length of input sequences\n",
    "tokenizer = Tokenizer(num_words=max_words)\n",
    "tokenizer.fit_on_texts(df.Questions)\n",
    "sequences = tokenizer.texts_to_sequences(df.Questions)\n",
    "word_index = tokenizer.word_index\n",
    "print('Found %s unique tokens.' % len(word_index))"
   ]
  },
  {
   "cell_type": "code",
   "execution_count": 27,
   "metadata": {},
   "outputs": [],
   "source": [
    "data = pad_sequences(sequences, maxlen=max_len)"
   ]
  },
  {
   "cell_type": "code",
   "execution_count": 28,
   "metadata": {},
   "outputs": [
    {
     "name": "stdout",
     "output_type": "stream",
     "text": [
      "(360718, 8)\n"
     ]
    },
    {
     "data": {
      "text/plain": [
       "array([[1., 0., 0., ..., 0., 0., 0.],\n",
       "       [1., 0., 0., ..., 0., 0., 0.],\n",
       "       [1., 0., 0., ..., 0., 0., 0.],\n",
       "       ...,\n",
       "       [0., 0., 0., ..., 0., 0., 1.],\n",
       "       [0., 0., 0., ..., 0., 0., 1.],\n",
       "       [0., 0., 0., ..., 0., 0., 1.]], dtype=float32)"
      ]
     },
     "execution_count": 28,
     "metadata": {},
     "output_type": "execute_result"
    }
   ],
   "source": [
    "# Convert labels to categorical format\n",
    "num_classes = len(set(df.Tag))\n",
    "unq_tags = df.Tag.unique()\n",
    "word_to_label = {word: i for i, word in enumerate(unq_tags)}\n",
    "labels = [word_to_label[word] for word in df.Tag]\n",
    "labels = np.asarray(labels)\n",
    "labels = to_categorical(labels, num_classes=num_classes)\n",
    "print(labels.shape)\n",
    "labels"
   ]
  },
  {
   "cell_type": "code",
   "execution_count": 29,
   "metadata": {},
   "outputs": [],
   "source": [
    "X_train, X_val, y_train, y_val = train_test_split(data, labels, test_size=0.2, random_state=42)"
   ]
  },
  {
   "cell_type": "code",
   "execution_count": 30,
   "metadata": {},
   "outputs": [],
   "source": [
    "# Build the CNN model\n",
    "model = Sequential()\n",
    "model.add(Embedding(max_words, 128, input_length=max_len))\n",
    "model.add(Conv1D(64, 5, activation='relu'))\n",
    "model.add(GlobalMaxPooling1D())\n",
    "model.add(Dense(num_classes, activation='sigmoid'))"
   ]
  },
  {
   "cell_type": "code",
   "execution_count": 31,
   "metadata": {},
   "outputs": [],
   "source": [
    "# Compile the model\n",
    "model.compile(optimizer='adam', loss='categorical_crossentropy', metrics=['accuracy'])"
   ]
  },
  {
   "cell_type": "code",
   "execution_count": 32,
   "metadata": {},
   "outputs": [
    {
     "name": "stdout",
     "output_type": "stream",
     "text": [
      "Epoch 1/10\n",
      "9018/9018 [==============================] - 382s 42ms/step - loss: 0.6047 - accuracy: 0.7961 - val_loss: 0.5448 - val_accuracy: 0.8152\n",
      "Epoch 2/10\n",
      "9018/9018 [==============================] - 389s 43ms/step - loss: 0.4950 - accuracy: 0.8306 - val_loss: 0.5462 - val_accuracy: 0.8134\n",
      "Epoch 3/10\n",
      "9018/9018 [==============================] - 373s 41ms/step - loss: 0.4410 - accuracy: 0.8491 - val_loss: 0.5734 - val_accuracy: 0.8083\n",
      "Epoch 4/10\n",
      "9018/9018 [==============================] - 378s 42ms/step - loss: 0.3946 - accuracy: 0.8635 - val_loss: 0.5891 - val_accuracy: 0.8071\n",
      "Epoch 5/10\n",
      "9018/9018 [==============================] - 385s 43ms/step - loss: 0.3548 - accuracy: 0.8773 - val_loss: 0.6355 - val_accuracy: 0.7998\n",
      "Epoch 6/10\n",
      "9018/9018 [==============================] - 384s 43ms/step - loss: 0.3223 - accuracy: 0.8883 - val_loss: 0.6789 - val_accuracy: 0.7912\n",
      "Epoch 7/10\n",
      "9018/9018 [==============================] - 376s 42ms/step - loss: 0.2960 - accuracy: 0.8969 - val_loss: 0.7258 - val_accuracy: 0.7898\n",
      "Epoch 8/10\n",
      "9018/9018 [==============================] - 393s 44ms/step - loss: 0.2759 - accuracy: 0.9034 - val_loss: 0.7682 - val_accuracy: 0.7828\n",
      "Epoch 9/10\n",
      "9018/9018 [==============================] - 358s 40ms/step - loss: 0.2589 - accuracy: 0.9096 - val_loss: 0.8176 - val_accuracy: 0.7822\n",
      "Epoch 10/10\n",
      "9018/9018 [==============================] - 362s 40ms/step - loss: 0.2455 - accuracy: 0.9139 - val_loss: 0.8593 - val_accuracy: 0.7807\n"
     ]
    },
    {
     "data": {
      "text/plain": [
       "<keras.callbacks.History at 0x25683689a10>"
      ]
     },
     "execution_count": 32,
     "metadata": {},
     "output_type": "execute_result"
    }
   ],
   "source": [
    "# Train the model\n",
    "model.fit(X_train, y_train, validation_data=(X_val, y_val), epochs=10, batch_size=32)"
   ]
  },
  {
   "cell_type": "code",
   "execution_count": 33,
   "metadata": {},
   "outputs": [
    {
     "name": "stdout",
     "output_type": "stream",
     "text": [
      "Test loss: 0.859277069568634\n",
      "Test accuracy: 0.7807301878929138\n"
     ]
    }
   ],
   "source": [
    "# Evaluate the model\n",
    "scores = model.evaluate(X_val, y_val, verbose=0)\n",
    "print('Test loss:', scores[0])\n",
    "print('Test accuracy:', scores[1])"
   ]
  },
  {
   "cell_type": "code",
   "execution_count": null,
   "metadata": {},
   "outputs": [],
   "source": []
  }
 ],
 "metadata": {
  "kernelspec": {
   "display_name": "Python 3",
   "language": "python",
   "name": "python3"
  },
  "language_info": {
   "codemirror_mode": {
    "name": "ipython",
    "version": 3
   },
   "file_extension": ".py",
   "mimetype": "text/x-python",
   "name": "python",
   "nbconvert_exporter": "python",
   "pygments_lexer": "ipython3",
   "version": "3.11.0"
  },
  "orig_nbformat": 4
 },
 "nbformat": 4,
 "nbformat_minor": 2
}
