{
 "cells": [
  {
   "cell_type": "code",
   "execution_count": 29,
   "metadata": {},
   "outputs": [],
   "source": [
    "import pandas as pd\n",
    "import numpy as np\n",
    "import nltk\n",
    "from nltk.corpus import stopwords\n",
    "from nltk.tokenize import word_tokenize\n",
    "from nltk.stem import PorterStemmer\n",
    "from keras.models import Sequential\n",
    "from keras.layers import Dense, Embedding, LSTM\n",
    "from keras.preprocessing.text import Tokenizer\n",
    "from keras.utils.data_utils import pad_sequences\n",
    "from sklearn.model_selection import train_test_split\n",
    "from sklearn.metrics import accuracy_score\n",
    "from sklearn.preprocessing import LabelEncoder,StandardScaler"
   ]
  },
  {
   "cell_type": "code",
   "execution_count": 30,
   "metadata": {},
   "outputs": [
    {
     "name": "stderr",
     "output_type": "stream",
     "text": [
      "[nltk_data] Downloading package stopwords to\n",
      "[nltk_data]     C:\\Users\\einst\\AppData\\Roaming\\nltk_data...\n",
      "[nltk_data]   Package stopwords is already up-to-date!\n",
      "[nltk_data] Downloading package punkt to\n",
      "[nltk_data]     C:\\Users\\einst\\AppData\\Roaming\\nltk_data...\n",
      "[nltk_data]   Package punkt is already up-to-date!\n"
     ]
    },
    {
     "data": {
      "text/plain": [
       "True"
      ]
     },
     "execution_count": 30,
     "metadata": {},
     "output_type": "execute_result"
    }
   ],
   "source": [
    "nltk.download('stopwords')\n",
    "nltk.download('punkt')"
   ]
  },
  {
   "cell_type": "code",
   "execution_count": 31,
   "metadata": {},
   "outputs": [],
   "source": [
    "#Load Data\n",
    "\n",
    "raw_numpy = pd.read_csv(\"numpy.csv\")\n",
    "raw_pandas = pd.read_csv(\"pandas.csv\")"
   ]
  },
  {
   "cell_type": "code",
   "execution_count": 32,
   "metadata": {},
   "outputs": [],
   "source": [
    "raw_numpy[\"class\"]=\"numpy\"\n",
    "raw_pandas[\"class\"]=\"pandas\""
   ]
  },
  {
   "cell_type": "code",
   "execution_count": 33,
   "metadata": {},
   "outputs": [
    {
     "data": {
      "text/html": [
       "<div>\n",
       "<style scoped>\n",
       "    .dataframe tbody tr th:only-of-type {\n",
       "        vertical-align: middle;\n",
       "    }\n",
       "\n",
       "    .dataframe tbody tr th {\n",
       "        vertical-align: top;\n",
       "    }\n",
       "\n",
       "    .dataframe thead th {\n",
       "        text-align: right;\n",
       "    }\n",
       "</style>\n",
       "<table border=\"1\" class=\"dataframe\">\n",
       "  <thead>\n",
       "    <tr style=\"text-align: right;\">\n",
       "      <th></th>\n",
       "      <th>Questions</th>\n",
       "      <th>class</th>\n",
       "    </tr>\n",
       "  </thead>\n",
       "  <tbody>\n",
       "    <tr>\n",
       "      <th>0</th>\n",
       "      <td>numpy savez() of a list of 3D arrays with diff...</td>\n",
       "      <td>numpy</td>\n",
       "    </tr>\n",
       "    <tr>\n",
       "      <th>1</th>\n",
       "      <td>'DataFrame' object has no attribute 'Close' in...</td>\n",
       "      <td>numpy</td>\n",
       "    </tr>\n",
       "    <tr>\n",
       "      <th>2</th>\n",
       "      <td>How to Look up multiple values for one column ...</td>\n",
       "      <td>numpy</td>\n",
       "    </tr>\n",
       "    <tr>\n",
       "      <th>3</th>\n",
       "      <td>What are fastest data types to use as an alter...</td>\n",
       "      <td>numpy</td>\n",
       "    </tr>\n",
       "    <tr>\n",
       "      <th>4</th>\n",
       "      <td>rgb2hed not giving the same answer when applie...</td>\n",
       "      <td>numpy</td>\n",
       "    </tr>\n",
       "  </tbody>\n",
       "</table>\n",
       "</div>"
      ],
      "text/plain": [
       "                                           Questions  class\n",
       "0  numpy savez() of a list of 3D arrays with diff...  numpy\n",
       "1  'DataFrame' object has no attribute 'Close' in...  numpy\n",
       "2  How to Look up multiple values for one column ...  numpy\n",
       "3  What are fastest data types to use as an alter...  numpy\n",
       "4  rgb2hed not giving the same answer when applie...  numpy"
      ]
     },
     "execution_count": 33,
     "metadata": {},
     "output_type": "execute_result"
    }
   ],
   "source": [
    "raw_numpy.head()"
   ]
  },
  {
   "cell_type": "code",
   "execution_count": 34,
   "metadata": {},
   "outputs": [
    {
     "data": {
      "text/html": [
       "<div>\n",
       "<style scoped>\n",
       "    .dataframe tbody tr th:only-of-type {\n",
       "        vertical-align: middle;\n",
       "    }\n",
       "\n",
       "    .dataframe tbody tr th {\n",
       "        vertical-align: top;\n",
       "    }\n",
       "\n",
       "    .dataframe thead th {\n",
       "        text-align: right;\n",
       "    }\n",
       "</style>\n",
       "<table border=\"1\" class=\"dataframe\">\n",
       "  <thead>\n",
       "    <tr style=\"text-align: right;\">\n",
       "      <th></th>\n",
       "      <th>Questions</th>\n",
       "      <th>class</th>\n",
       "    </tr>\n",
       "  </thead>\n",
       "  <tbody>\n",
       "    <tr>\n",
       "      <th>0</th>\n",
       "      <td>numpy savez() of a list of 3d arrays with diff...</td>\n",
       "      <td>numpy</td>\n",
       "    </tr>\n",
       "    <tr>\n",
       "      <th>1</th>\n",
       "      <td>'dataframe' object has no attribute 'close' in...</td>\n",
       "      <td>numpy</td>\n",
       "    </tr>\n",
       "    <tr>\n",
       "      <th>2</th>\n",
       "      <td>how to look up multiple values for one column ...</td>\n",
       "      <td>numpy</td>\n",
       "    </tr>\n",
       "    <tr>\n",
       "      <th>3</th>\n",
       "      <td>what are fastest data types to use as an alter...</td>\n",
       "      <td>numpy</td>\n",
       "    </tr>\n",
       "    <tr>\n",
       "      <th>4</th>\n",
       "      <td>rgb2hed not giving the same answer when applie...</td>\n",
       "      <td>numpy</td>\n",
       "    </tr>\n",
       "  </tbody>\n",
       "</table>\n",
       "</div>"
      ],
      "text/plain": [
       "                                           Questions  class\n",
       "0  numpy savez() of a list of 3d arrays with diff...  numpy\n",
       "1  'dataframe' object has no attribute 'close' in...  numpy\n",
       "2  how to look up multiple values for one column ...  numpy\n",
       "3  what are fastest data types to use as an alter...  numpy\n",
       "4  rgb2hed not giving the same answer when applie...  numpy"
      ]
     },
     "execution_count": 34,
     "metadata": {},
     "output_type": "execute_result"
    }
   ],
   "source": [
    "numpy_data = raw_numpy\n",
    "numpy_data[\"Questions\"] = [q.lower() for q in  raw_numpy[\"Questions\"]]\n",
    "numpy_data.head()"
   ]
  },
  {
   "cell_type": "code",
   "execution_count": 35,
   "metadata": {},
   "outputs": [
    {
     "data": {
      "text/html": [
       "<div>\n",
       "<style scoped>\n",
       "    .dataframe tbody tr th:only-of-type {\n",
       "        vertical-align: middle;\n",
       "    }\n",
       "\n",
       "    .dataframe tbody tr th {\n",
       "        vertical-align: top;\n",
       "    }\n",
       "\n",
       "    .dataframe thead th {\n",
       "        text-align: right;\n",
       "    }\n",
       "</style>\n",
       "<table border=\"1\" class=\"dataframe\">\n",
       "  <thead>\n",
       "    <tr style=\"text-align: right;\">\n",
       "      <th></th>\n",
       "      <th>Questions</th>\n",
       "      <th>class</th>\n",
       "    </tr>\n",
       "  </thead>\n",
       "  <tbody>\n",
       "    <tr>\n",
       "      <th>0</th>\n",
       "      <td>different results from any(df.isnull()) and pd...</td>\n",
       "      <td>pandas</td>\n",
       "    </tr>\n",
       "    <tr>\n",
       "      <th>1</th>\n",
       "      <td>pandas ewm correlation - not rolling</td>\n",
       "      <td>pandas</td>\n",
       "    </tr>\n",
       "    <tr>\n",
       "      <th>2</th>\n",
       "      <td>bar chart in python jupyter lab not plotting i...</td>\n",
       "      <td>pandas</td>\n",
       "    </tr>\n",
       "    <tr>\n",
       "      <th>3</th>\n",
       "      <td>python pandas groupby: how to use variables in...</td>\n",
       "      <td>pandas</td>\n",
       "    </tr>\n",
       "    <tr>\n",
       "      <th>4</th>\n",
       "      <td>another way to iterate to get multiple values ...</td>\n",
       "      <td>pandas</td>\n",
       "    </tr>\n",
       "  </tbody>\n",
       "</table>\n",
       "</div>"
      ],
      "text/plain": [
       "                                           Questions   class\n",
       "0  different results from any(df.isnull()) and pd...  pandas\n",
       "1               pandas ewm correlation - not rolling  pandas\n",
       "2  bar chart in python jupyter lab not plotting i...  pandas\n",
       "3  python pandas groupby: how to use variables in...  pandas\n",
       "4  another way to iterate to get multiple values ...  pandas"
      ]
     },
     "execution_count": 35,
     "metadata": {},
     "output_type": "execute_result"
    }
   ],
   "source": [
    "pandas_data = raw_pandas\n",
    "pandas_data[\"Questions\"] = [q.lower() for q in  raw_pandas[\"Questions\"]]\n",
    "pandas_data.head()"
   ]
  },
  {
   "cell_type": "code",
   "execution_count": 36,
   "metadata": {},
   "outputs": [],
   "source": [
    "raw_x = pd.concat([pandas_data, numpy_data])"
   ]
  },
  {
   "cell_type": "code",
   "execution_count": 37,
   "metadata": {},
   "outputs": [
    {
     "name": "stdout",
     "output_type": "stream",
     "text": [
      "(47904, 2)\n",
      "(45005, 2)\n",
      "(92909, 2)\n"
     ]
    }
   ],
   "source": [
    "print(pandas_data.shape)\n",
    "print(numpy_data.shape)\n",
    "print(raw_x.shape)"
   ]
  },
  {
   "cell_type": "code",
   "execution_count": 38,
   "metadata": {},
   "outputs": [
    {
     "data": {
      "text/html": [
       "<div>\n",
       "<style scoped>\n",
       "    .dataframe tbody tr th:only-of-type {\n",
       "        vertical-align: middle;\n",
       "    }\n",
       "\n",
       "    .dataframe tbody tr th {\n",
       "        vertical-align: top;\n",
       "    }\n",
       "\n",
       "    .dataframe thead th {\n",
       "        text-align: right;\n",
       "    }\n",
       "</style>\n",
       "<table border=\"1\" class=\"dataframe\">\n",
       "  <thead>\n",
       "    <tr style=\"text-align: right;\">\n",
       "      <th></th>\n",
       "      <th>Questions</th>\n",
       "      <th>class</th>\n",
       "    </tr>\n",
       "  </thead>\n",
       "  <tbody>\n",
       "    <tr>\n",
       "      <th>0</th>\n",
       "      <td>different results from any(df.isnull()) and pd...</td>\n",
       "      <td>0</td>\n",
       "    </tr>\n",
       "    <tr>\n",
       "      <th>1</th>\n",
       "      <td>pandas ewm correlation - not rolling</td>\n",
       "      <td>0</td>\n",
       "    </tr>\n",
       "    <tr>\n",
       "      <th>2</th>\n",
       "      <td>bar chart in python jupyter lab not plotting i...</td>\n",
       "      <td>0</td>\n",
       "    </tr>\n",
       "    <tr>\n",
       "      <th>3</th>\n",
       "      <td>python pandas groupby: how to use variables in...</td>\n",
       "      <td>0</td>\n",
       "    </tr>\n",
       "    <tr>\n",
       "      <th>4</th>\n",
       "      <td>another way to iterate to get multiple values ...</td>\n",
       "      <td>0</td>\n",
       "    </tr>\n",
       "  </tbody>\n",
       "</table>\n",
       "</div>"
      ],
      "text/plain": [
       "                                           Questions  class\n",
       "0  different results from any(df.isnull()) and pd...      0\n",
       "1               pandas ewm correlation - not rolling      0\n",
       "2  bar chart in python jupyter lab not plotting i...      0\n",
       "3  python pandas groupby: how to use variables in...      0\n",
       "4  another way to iterate to get multiple values ...      0"
      ]
     },
     "execution_count": 38,
     "metadata": {},
     "output_type": "execute_result"
    }
   ],
   "source": [
    "raw_x[\"class\"] = raw_x[\"class\"].apply(lambda x: 0 if x == 'pandas' else 1)\n",
    "raw_x.head()"
   ]
  },
  {
   "cell_type": "code",
   "execution_count": 39,
   "metadata": {},
   "outputs": [
    {
     "data": {
      "text/plain": [
       "0        [different, results, from, any, (, df.isnull, ...\n",
       "1              [pandas, ewm, correlation, -, not, rolling]\n",
       "2        [bar, chart, in, python, jupyter, lab, not, pl...\n",
       "3        [python, pandas, groupby, :, how, to, use, var...\n",
       "4        [another, way, to, iterate, to, get, multiple,...\n",
       "                               ...                        \n",
       "45000    [how, to, calculate, the, mean, and, standard,...\n",
       "45001    [how, can, i, apply, a, function, to, a, scrol...\n",
       "45002    [populate, numpy, array, according, to, predef...\n",
       "45003    [why, am, i, getting, so, many, indices, when,...\n",
       "45004        [how, to, change, np.nan, type, nat, to, nan]\n",
       "Name: Questions, Length: 92909, dtype: object"
      ]
     },
     "execution_count": 39,
     "metadata": {},
     "output_type": "execute_result"
    }
   ],
   "source": [
    "tokens = raw_x[\"Questions\"].apply(lambda x: word_tokenize(x))\n",
    "tokens"
   ]
  },
  {
   "cell_type": "code",
   "execution_count": 40,
   "metadata": {},
   "outputs": [
    {
     "data": {
      "text/plain": [
       "0               [different, results, from, any, and, data]\n",
       "1                 [pandas, ewm, correlation, not, rolling]\n",
       "2        [bar, chart, in, python, jupyter, lab, not, pl...\n",
       "3        [python, pandas, groupby, how, to, use, variab...\n",
       "4        [another, way, to, iterate, to, get, multiple,...\n",
       "                               ...                        \n",
       "45000    [how, to, calculate, the, mean, and, standard,...\n",
       "45001    [how, can, i, apply, a, function, to, a, scrol...\n",
       "45002    [populate, numpy, array, according, to, predef...\n",
       "45003    [why, am, i, getting, so, many, indices, when,...\n",
       "45004                [how, to, change, type, nat, to, nan]\n",
       "Name: Questions, Length: 92909, dtype: object"
      ]
     },
     "execution_count": 40,
     "metadata": {},
     "output_type": "execute_result"
    }
   ],
   "source": [
    "words = tokens.apply(lambda x: [w for w in x if w.isalpha()])\n",
    "words"
   ]
  },
  {
   "cell_type": "code",
   "execution_count": 41,
   "metadata": {},
   "outputs": [
    {
     "data": {
      "text/plain": [
       "0                               [different, results, data]\n",
       "1                      [pandas, ewm, correlation, rolling]\n",
       "2        [bar, chart, python, jupyter, lab, plotting, i...\n",
       "3        [python, pandas, groupby, use, variables, diff...\n",
       "4        [another, way, iterate, get, multiple, values,...\n",
       "                               ...                        \n",
       "45000    [calculate, mean, standard, deviation, similar...\n",
       "45001          [apply, function, scrolling, window, numpy]\n",
       "45002    [populate, numpy, array, according, predefined...\n",
       "45003    [getting, many, indices, ndarray, passed, nonz...\n",
       "45004                             [change, type, nat, nan]\n",
       "Name: Questions, Length: 92909, dtype: object"
      ]
     },
     "execution_count": 41,
     "metadata": {},
     "output_type": "execute_result"
    }
   ],
   "source": [
    "stop_words = set(stopwords.words('english'))\n",
    "filtered_words = words.apply(lambda x: [word for word in x if word not in stop_words])\n",
    "filtered_words"
   ]
  },
  {
   "cell_type": "code",
   "execution_count": 42,
   "metadata": {},
   "outputs": [
    {
     "data": {
      "text/plain": [
       "0                                   [differ, result, data]\n",
       "1                               [panda, ewm, correl, roll]\n",
       "2        [bar, chart, python, jupyt, lab, plot, instead...\n",
       "3        [python, panda, groupbi, use, variabl, differ,...\n",
       "4        [anoth, way, iter, get, multipl, valu, singl, ...\n",
       "                               ...                        \n",
       "45000    [calcul, mean, standard, deviat, similar, matrix]\n",
       "45001             [appli, function, scroll, window, numpi]\n",
       "45002    [popul, numpi, array, accord, predefin, array,...\n",
       "45003    [get, mani, indic, ndarray, pass, nonzero, fun...\n",
       "45004                              [chang, type, nat, nan]\n",
       "Name: Questions, Length: 92909, dtype: object"
      ]
     },
     "execution_count": 42,
     "metadata": {},
     "output_type": "execute_result"
    }
   ],
   "source": [
    "# Stem the words\n",
    "stemmer = PorterStemmer()\n",
    "stemmed_words = filtered_words.apply(lambda x: [stemmer.stem(word) for word in x])\n",
    "stemmed_words"
   ]
  },
  {
   "cell_type": "code",
   "execution_count": 43,
   "metadata": {},
   "outputs": [
    {
     "data": {
      "text/plain": [
       "0                                     [differ result data]\n",
       "1                                  [panda ewm correl roll]\n",
       "2        [bar chart python jupyt lab plot instead throw...\n",
       "3        [python panda groupbi use variabl differ colum...\n",
       "4        [anoth way iter get multipl valu singl date co...\n",
       "                               ...                        \n",
       "45000         [calcul mean standard deviat similar matrix]\n",
       "45001                 [appli function scroll window numpi]\n",
       "45002       [popul numpi array accord predefin array valu]\n",
       "45003       [get mani indic ndarray pass nonzero function]\n",
       "45004                                 [chang type nat nan]\n",
       "Name: Questions, Length: 92909, dtype: object"
      ]
     },
     "execution_count": 43,
     "metadata": {},
     "output_type": "execute_result"
    }
   ],
   "source": [
    "clean_sentence = stemmed_words.apply(lambda x: [\" \".join(x)])\n",
    "clean_sentence"
   ]
  },
  {
   "cell_type": "code",
   "execution_count": 44,
   "metadata": {},
   "outputs": [],
   "source": [
    "clean_x = raw_x\n",
    "clean_x[\"Questions\"] = clean_sentence"
   ]
  },
  {
   "cell_type": "code",
   "execution_count": 45,
   "metadata": {},
   "outputs": [
    {
     "data": {
      "text/plain": [
       "Questions    0\n",
       "class        0\n",
       "dtype: int64"
      ]
     },
     "execution_count": 45,
     "metadata": {},
     "output_type": "execute_result"
    }
   ],
   "source": [
    "clean_x.isnull().sum()"
   ]
  },
  {
   "cell_type": "code",
   "execution_count": 46,
   "metadata": {},
   "outputs": [
    {
     "data": {
      "text/plain": [
       "Questions    object\n",
       "class         int64\n",
       "dtype: object"
      ]
     },
     "execution_count": 46,
     "metadata": {},
     "output_type": "execute_result"
    }
   ],
   "source": [
    "lb = LabelEncoder()\n",
    "clean_x[\"class\"] = lb.fit_transform(clean_x[\"class\"])\n",
    "clean_x.dtypes"
   ]
  },
  {
   "cell_type": "code",
   "execution_count": 47,
   "metadata": {},
   "outputs": [],
   "source": [
    "clean_x_10 = clean_x.sample(frac=0.1)"
   ]
  },
  {
   "cell_type": "code",
   "execution_count": 48,
   "metadata": {},
   "outputs": [],
   "source": [
    "tokenizer = Tokenizer(num_words=10000)\n",
    "tokenizer.fit_on_texts(clean_x[\"Questions\"])\n",
    "X = tokenizer.texts_to_sequences(clean_x_10[\"Questions\"])\n",
    "X = pad_sequences(X, maxlen=100)\n",
    "\n",
    "y = pd.get_dummies(clean_x_10[\"class\"]).values"
   ]
  },
  {
   "cell_type": "code",
   "execution_count": 49,
   "metadata": {},
   "outputs": [],
   "source": [
    "X_unseen, X_test, y_unseen, y_test = train_test_split(X, y, test_size=0.15, shuffle=True)\n",
    "X_train, X_val, y_train, y_val = train_test_split(X, y, test_size=0.15, shuffle=True)\n",
    "\n",
    "ss = StandardScaler()\n",
    "X_train = ss.fit_transform(X_train)\n",
    "X_test = ss.fit_transform(X_test)"
   ]
  },
  {
   "cell_type": "code",
   "execution_count": 50,
   "metadata": {},
   "outputs": [
    {
     "name": "stdout",
     "output_type": "stream",
     "text": [
      "WARNING:tensorflow:Layer lstm_4 will not use cuDNN kernels since it doesn't meet the criteria. It will use a generic GPU kernel as fallback when running on GPU.\n",
      "WARNING:tensorflow:Layer lstm_5 will not use cuDNN kernels since it doesn't meet the criteria. It will use a generic GPU kernel as fallback when running on GPU.\n"
     ]
    }
   ],
   "source": [
    "# Define the neural network model\n",
    "model = Sequential()\n",
    "model.add(Embedding(input_dim=10000, output_dim=128, input_length=100))\n",
    "model.add(LSTM(units=32, dropout=0.2, recurrent_dropout=0.2, return_sequences=True))\n",
    "model.add(LSTM(units=16, dropout=0.2, recurrent_dropout=0.2, return_sequences=False))\n",
    "model.add(Dense(units=2, activation='sigmoid'))"
   ]
  },
  {
   "cell_type": "code",
   "execution_count": 51,
   "metadata": {},
   "outputs": [],
   "source": [
    "# Compile the model\n",
    "model.compile(loss='categorical_crossentropy', optimizer='adam', metrics=['accuracy'])"
   ]
  },
  {
   "cell_type": "code",
   "execution_count": 52,
   "metadata": {},
   "outputs": [
    {
     "name": "stdout",
     "output_type": "stream",
     "text": [
      "Model: \"sequential_2\"\n",
      "_________________________________________________________________\n",
      " Layer (type)                Output Shape              Param #   \n",
      "=================================================================\n",
      " embedding_2 (Embedding)     (None, 100, 128)          1280000   \n",
      "                                                                 \n",
      " lstm_4 (LSTM)               (None, 100, 32)           20608     \n",
      "                                                                 \n",
      " lstm_5 (LSTM)               (None, 16)                3136      \n",
      "                                                                 \n",
      " dense_2 (Dense)             (None, 2)                 34        \n",
      "                                                                 \n",
      "=================================================================\n",
      "Total params: 1,303,778\n",
      "Trainable params: 1,303,778\n",
      "Non-trainable params: 0\n",
      "_________________________________________________________________\n"
     ]
    }
   ],
   "source": [
    "model.summary()"
   ]
  },
  {
   "cell_type": "code",
   "execution_count": 53,
   "metadata": {},
   "outputs": [
    {
     "name": "stdout",
     "output_type": "stream",
     "text": [
      "Epoch 1/5\n",
      "124/124 [==============================] - 127s 1s/step - loss: 0.6899 - accuracy: 0.5261 - val_loss: 0.6952 - val_accuracy: 0.4971\n",
      "Epoch 2/5\n",
      "124/124 [==============================] - 125s 1s/step - loss: 0.6564 - accuracy: 0.5340 - val_loss: 0.6983 - val_accuracy: 0.5581\n",
      "Epoch 3/5\n",
      "124/124 [==============================] - 123s 991ms/step - loss: 0.6512 - accuracy: 0.5354 - val_loss: 0.7002 - val_accuracy: 0.5014\n",
      "Epoch 4/5\n",
      "124/124 [==============================] - 125s 1s/step - loss: 0.6505 - accuracy: 0.5374 - val_loss: 0.7010 - val_accuracy: 0.5287\n",
      "Epoch 5/5\n",
      "124/124 [==============================] - 122s 982ms/step - loss: 0.6501 - accuracy: 0.5340 - val_loss: 0.7017 - val_accuracy: 0.5237\n"
     ]
    },
    {
     "data": {
      "text/plain": [
       "<keras.callbacks.History at 0x2b37953c5e0>"
      ]
     },
     "execution_count": 53,
     "metadata": {},
     "output_type": "execute_result"
    }
   ],
   "source": [
    "# Train the model\n",
    "model.fit(X_train, y_train, epochs=5, batch_size=64, validation_data=(X_val, y_val))"
   ]
  },
  {
   "cell_type": "code",
   "execution_count": 54,
   "metadata": {},
   "outputs": [
    {
     "name": "stdout",
     "output_type": "stream",
     "text": [
      "44/44 [==============================] - 4s 95ms/step - loss: 0.6445 - accuracy: 0.5603\n",
      "loss: 0.64\n",
      "Accuracy: 0.56\n"
     ]
    }
   ],
   "source": [
    "# Evaluate the model on the testing set\n",
    "loss, accuracy = model.evaluate(X_test, y_test)\n",
    "print(f'loss: {loss:.2f}')\n",
    "print(f'Accuracy: {accuracy:.2f}')"
   ]
  },
  {
   "cell_type": "code",
   "execution_count": null,
   "metadata": {},
   "outputs": [],
   "source": [
    "word2vec\n",
    "phrase2vec\n",
    "BAgof words\n",
    "PCA\n",
    "\n",
    "decribing scraper along woth feature descriptions\n"
   ]
  }
 ],
 "metadata": {
  "kernelspec": {
   "display_name": "tf",
   "language": "python",
   "name": "tf"
  },
  "language_info": {
   "codemirror_mode": {
    "name": "ipython",
    "version": 3
   },
   "file_extension": ".py",
   "mimetype": "text/x-python",
   "name": "python",
   "nbconvert_exporter": "python",
   "pygments_lexer": "ipython3",
   "version": "3.8.0"
  },
  "orig_nbformat": 4
 },
 "nbformat": 4,
 "nbformat_minor": 2
}
